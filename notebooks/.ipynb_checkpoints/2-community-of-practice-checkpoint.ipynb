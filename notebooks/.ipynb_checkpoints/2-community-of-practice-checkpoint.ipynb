{
 "cells": [
  {
   "cell_type": "markdown",
   "metadata": {},
   "source": [
    "*Open Source Communities: Inclusive Practices, Collaboration & Decision-Making*\n",
    "\n",
    "# Module 2: Community of Practice\n",
    "\n",
    "*Welcome to the JupyterCon 2020 tutorial! 🎉*\n",
    "\n",
    "**Learning Objective:**\n",
    "  - Introduce Community of Practice and discuss it in the context of Open Source communities and provide examples\n",
    "  - Explain experiences of community members when interacting with an Open Source community\n",
    "  - Set foundation for why we want to move from default practices in Open Source to inclusive practices\n",
    "  - Discuss what inclusive practices we should promote for our projects\n",
    "  - Explore some tools to apply these principles to understand different elements for your projects and/or community\n",
    "\n",
    "  <!---Show important bits: website folder, _toc file, config file--->\n",
    "  \n",
    "📹 [VIDEO](TBA)\n",
    "---"
   ]
  },
  {
   "cell_type": "markdown",
   "metadata": {},
   "source": [
    "## Community vs. Community of Practice\n",
    "\n",
    "\n",
    "- \n",
    "- "
   ]
  },
  {
   "cell_type": "markdown",
   "metadata": {},
   "source": [
    "## Open Source Communities\n",
    "\n",
    "- \n",
    "- "
   ]
  },
  {
   "cell_type": "markdown",
   "metadata": {},
   "source": [
    "### Members of Community of Practice\n",
    "\n",
    "- \n",
    "- "
   ]
  },
  {
   "cell_type": "markdown",
   "metadata": {},
   "source": [
    "## Building Community of Practice \n",
    "\n",
    "- \n",
    "- \n"
   ]
  },
  {
   "cell_type": "markdown",
   "metadata": {},
   "source": [
    "### Some examples of Open Source Communities\n",
    "\n",
    "- \n",
    "- \n"
   ]
  },
  {
   "cell_type": "markdown",
   "metadata": {},
   "source": [
    "## Moving from default to inclusive\n",
    "\n",
    "- \n",
    "- \n"
   ]
  },
  {
   "cell_type": "markdown",
   "metadata": {},
   "source": [
    "🛠 Tool-kits\n",
    "---\n",
    "\n",
    "## Understanding Elements of your Community \n",
    "\n",
    "- \n",
    "- \n",
    "\n",
    "### Community Canvas\n",
    "\n",
    "-\n",
    "- "
   ]
  },
  {
   "cell_type": "markdown",
   "metadata": {},
   "source": [
    "🗝 Takeaway\n",
    "---\n",
    "\n",
    "- \n",
    "- \n",
    "- "
   ]
  },
  {
   "cell_type": "markdown",
   "metadata": {},
   "source": [
    "📚 References\n",
    "---\n",
    "\n",
    "- \n",
    "- \n",
    "- "
   ]
  },
  {
   "cell_type": "markdown",
   "metadata": {},
   "source": [
    "📢 Contributors of this module\n",
    "---\n",
    "\n",
    "- Notebook:\n",
    "- Presentation:\n",
    "- Intorductory talk:\n",
    "- Examples:\n",
    "- Other:"
   ]
  },
  {
   "cell_type": "markdown",
   "metadata": {},
   "source": [
    "👉 [Next Module](./3-community-collaboration.ipynb)\n",
    "---"
   ]
  }
 ],
 "metadata": {
  "kernelspec": {
   "display_name": "Python 3",
   "language": "python",
   "name": "python3"
  },
  "language_info": {
   "codemirror_mode": {
    "name": "ipython",
    "version": 3
   },
   "file_extension": ".py",
   "mimetype": "text/x-python",
   "name": "python",
   "nbconvert_exporter": "python",
   "pygments_lexer": "ipython3",
   "version": "3.7.7"
  }
 },
 "nbformat": 4,
 "nbformat_minor": 4
}
