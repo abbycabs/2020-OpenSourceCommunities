{
 "cells": [
  {
   "cell_type": "markdown",
   "metadata": {},
   "source": [
    "*Open Source Communities: Inclusive Practices, Collaboration & Decision-Making*\n",
    "\n",
    "# Module 1: Diversity, Inclusion, Inclusiveness\n",
    "\n",
    "*Welcome to the JupyterCon 2020 tutorial! 🎉*\n",
    "\n",
    "**Learning Objective:**\n",
    "  - Define terminology: diversity, inclusion, and inclusiveness \n",
    "  - Explain their importance in building inclusive communities and discuss how we apply those in Open Source\n",
    "  - Describe how we can take different privileges and perspectives into account when designing communities for inclusion and participation\n",
    "  - Explore some tools to apply these principles to understand different personas of your community members and their their possible pathways to participate in your community\n",
    "  <!---Show important bits: website folder, _toc file, config file--->\n",
    "  \n",
    "---"
   ]
  },
  {
   "cell_type": "markdown",
   "metadata": {},
   "source": [
    "## Diversity, Inclusion\n",
    "\n",
    "- \n",
    "- "
   ]
  },
  {
   "cell_type": "markdown",
   "metadata": {},
   "source": [
    "## Inclusiveness\n",
    "\n",
    "- \n",
    "- "
   ]
  },
  {
   "cell_type": "markdown",
   "metadata": {},
   "source": [
    "## Importance and Relevance\n",
    "\n",
    "- \n",
    "- "
   ]
  },
  {
   "cell_type": "markdown",
   "metadata": {},
   "source": [
    "### Designing for Inclusion\n",
    "\n",
    "- \n",
    "- \n"
   ]
  },
  {
   "cell_type": "markdown",
   "metadata": {},
   "source": [
    "### Understanding Privileges & Perspectives \n",
    "\n",
    "- \n",
    "- \n"
   ]
  },
  {
   "cell_type": "markdown",
   "metadata": {},
   "source": [
    "### Designing for Participation\n",
    "\n",
    "- \n",
    "- \n"
   ]
  },
  {
   "cell_type": "markdown",
   "metadata": {},
   "source": [
    "Tool-kits\n",
    "---\n",
    "\n",
    "## Recognising & engaging with your Community members\n",
    "\n",
    "- \n",
    "- \n",
    "\n",
    "### Designing personas and identifying pathways\n",
    "\n",
    "-\n",
    "- "
   ]
  },
  {
   "cell_type": "markdown",
   "metadata": {},
   "source": [
    "Takeaway\n",
    "---\n",
    "\n",
    "- \n",
    "- \n",
    "- "
   ]
  },
  {
   "cell_type": "markdown",
   "metadata": {},
   "source": [
    "References\n",
    "---\n",
    "\n",
    "- \n",
    "- \n",
    "- "
   ]
  },
  {
   "cell_type": "markdown",
   "metadata": {},
   "source": [
    "Contributors of this module\n",
    "---\n",
    "\n",
    "- Notebook:\n",
    "- Presentation:\n",
    "- Intorductory talk:\n",
    "- Examples:\n",
    "- Other:"
   ]
  },
 ],
 "metadata": {
  "kernelspec": {
   "display_name": "Python 3",
   "language": "python",
   "name": "python3"
  },
  "language_info": {
   "codemirror_mode": {
    "name": "ipython",
    "version": 3
   },
   "file_extension": ".py",
   "mimetype": "text/x-python",
   "name": "python",
   "nbconvert_exporter": "python",
   "pygments_lexer": "ipython3",
   "version": "3.7.7"
  }
 },
 "nbformat": 4,
 "nbformat_minor": 4
}
